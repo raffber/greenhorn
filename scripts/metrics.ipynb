{
 "cells": [
  {
   "cell_type": "code",
   "execution_count": 2,
   "metadata": {},
   "outputs": [
    {
     "data": {
      "text/plain": [
       "'/home/raff/coding/switchnode-ui/greenhorn/scripts'"
      ]
     },
     "execution_count": 2,
     "metadata": {},
     "output_type": "execute_result"
    }
   ],
   "source": [
    "%pwd"
   ]
  },
  {
   "cell_type": "code",
   "execution_count": 10,
   "metadata": {},
   "outputs": [],
   "source": [
    "import json\n",
    "import matplotlib.pyplot as plt\n",
    "\n",
    "with open('../../bench.json') as f:\n",
    "    data = json.load(f)"
   ]
  },
  {
   "cell_type": "code",
   "execution_count": 13,
   "metadata": {},
   "outputs": [],
   "source": [
    "class Histogram(object):\n",
    "    \n",
    "    @classmethod\n",
    "    def from_json(cls, d):\n",
    "        ret = cls()\n",
    "        ret.max = d['max']\n",
    "        ret.min = d['min']\n",
    "        ret.mean = d['mean']\n",
    "        ret.len = d['len']\n",
    "        ret.quantiles = d['quantiles']\n",
    "        return ret\n",
    "    \n",
    "    def plot(self, subplot):\n",
    "        width = self.max / len(self.quantiles)\n",
    "        for (x,q,y) in self.quantiles:\n",
    "            x = x - width / 2\n",
    "            subplot.bar(x,y,width=width)\n",
    "\n",
    "class ComponentMetric(object):\n",
    "    \n",
    "    @classmethod\n",
    "    def from_json(cls, d):\n",
    "        ret = cls()\n",
    "        ret.time = Histogram.from_json(d['time']['hist'])\n",
    "        ret.throughput = Histogram.from_json(d['throughput']['hist'])\n",
    "        return ret\n",
    "\n",
    "class Benchmark(object):\n",
    "    \n",
    "    @classmethod\n",
    "    def from_json(cls, d):\n",
    "        ret = cls()\n",
    "        ret.components = None\n",
    "        ret.root = ComponentMetric.from_json(d['root'])\n",
    "        return ret"
   ]
  },
  {
   "cell_type": "code",
   "execution_count": 14,
   "metadata": {},
   "outputs": [
    {
     "data": {
      "image/png": "[encoded data removed]",
      "text/plain": [
       "<Figure size 432x288 with 1 Axes>"
      ]
     },
     "metadata": {
      "needs_background": "light"
     },
     "output_type": "display_data"
    }
   ],
   "source": [
    "bench = Benchmark.from_json(data)\n",
    "fig = plt.figure()\n",
    "bench.root.time.plot(fig.add_subplot(1,1, 1))"
   ]
  },
  {
   "cell_type": "code",
   "execution_count": 37,
   "metadata": {},
   "outputs": [],
   "source": [
    "fig.add_subplot?"
   ]
  },
  {
   "cell_type": "code",
   "execution_count": 33,
   "metadata": {},
   "outputs": [
    {
     "data": {
      "text/plain": [
       "[]"
      ]
     },
     "execution_count": 33,
     "metadata": {},
     "output_type": "execute_result"
    }
   ],
   "source": [
    "fig.add_s"
   ]
  },
  {
   "cell_type": "code",
   "execution_count": 27,
   "metadata": {},
   "outputs": [
    {
     "ename": "NameError",
     "evalue": "name 'figure' is not defined",
     "output_type": "error",
     "traceback": [
      "\u001b[0;31m---------------------------------------------------------------------------\u001b[0m",
      "\u001b[0;31mNameError\u001b[0m                                 Traceback (most recent call last)",
      "\u001b[0;32m<ipython-input-27-9274aa18903d>\u001b[0m in \u001b[0;36m<module>\u001b[0;34m\u001b[0m\n\u001b[1;32m      1\u001b[0m \u001b[0mbench\u001b[0m \u001b[0;34m=\u001b[0m \u001b[0mBenchmark\u001b[0m\u001b[0;34m.\u001b[0m\u001b[0mfrom_json\u001b[0m\u001b[0;34m(\u001b[0m\u001b[0mdata\u001b[0m\u001b[0;34m)\u001b[0m\u001b[0;34m\u001b[0m\u001b[0;34m\u001b[0m\u001b[0m\n\u001b[0;32m----> 2\u001b[0;31m \u001b[0mfig\u001b[0m \u001b[0;34m=\u001b[0m \u001b[0mfigure\u001b[0m\u001b[0;34m(\u001b[0m\u001b[0;34m)\u001b[0m\u001b[0;34m\u001b[0m\u001b[0;34m\u001b[0m\u001b[0m\n\u001b[0m\u001b[1;32m      3\u001b[0m \u001b[0mbench\u001b[0m\u001b[0;34m.\u001b[0m\u001b[0mroot\u001b[0m\u001b[0;34m.\u001b[0m\u001b[0mtime\u001b[0m\u001b[0;34m.\u001b[0m\u001b[0mplot\u001b[0m\u001b[0;34m(\u001b[0m\u001b[0mfig\u001b[0m\u001b[0;34m)\u001b[0m\u001b[0;34m\u001b[0m\u001b[0;34m\u001b[0m\u001b[0m\n",
      "\u001b[0;31mNameError\u001b[0m: name 'figure' is not defined"
     ]
    }
   ],
   "source": [
    "bench = Benchmark.from_json(data)\n",
    "fig = figure()\n",
    "bench.root.time.plot(fig)"
   ]
  },
  {
   "cell_type": "code",
   "execution_count": 3,
   "metadata": {},
   "outputs": [
    {
     "data": {
      "text/plain": [
       "{'components': {},\n",
       " 'root': {'time': {'hist': {'len': 102,\n",
       "    'max': 2597,\n",
       "    'mean': 910.0882352941179,\n",
       "    'min': 404,\n",
       "    'quantiles': [[0.0, 0.0],\n",
       "     [0.0, 0.0],\n",
       "     [0.06862745098039216, 0.06862745098039216],\n",
       "     [0.4215686274509804, 0.35294117647058826],\n",
       "     [0.7450980392156863, 0.3235294117647059],\n",
       "     [0.7647058823529411, 0.0196078431372549],\n",
       "     [0.7843137254901961, 0.0196078431372549],\n",
       "     [0.7843137254901961, 0.0],\n",
       "     [0.803921568627451, 0.0196078431372549],\n",
       "     [0.8431372549019608, 0.0392156862745098],\n",
       "     [0.8823529411764706, 0.0392156862745098],\n",
       "     [0.8921568627450981, 0.00980392156862745],\n",
       "     [0.9607843137254902, 0.06862745098039216],\n",
       "     [0.9705882352941176, 0.00980392156862745],\n",
       "     [0.9705882352941176, 0.0],\n",
       "     [0.9901960784313726, 0.0196078431372549]]}},\n",
       "  'throughput': {'hist': {'len': 5,\n",
       "    'max': 1,\n",
       "    'mean': 1.0,\n",
       "    'min': 1,\n",
       "    'quantiles': [[0.0, 0.0], [1.0, 1.0]]}}},\n",
       " 'diff': {'hist': {'len': 100,\n",
       "   'max': 4243,\n",
       "   'mean': 1077.0899999999997,\n",
       "   'min': 32,\n",
       "   'quantiles': [[0.02, 0.02],\n",
       "    [0.08, 0.06],\n",
       "    [0.41, 0.33],\n",
       "    [0.76, 0.35],\n",
       "    [0.76, 0.0],\n",
       "    [0.79, 0.03],\n",
       "    [0.82, 0.03],\n",
       "    [0.91, 0.09],\n",
       "    [0.94, 0.03],\n",
       "    [0.95, 0.01],\n",
       "    [0.97, 0.02],\n",
       "    [0.99, 0.02],\n",
       "    [0.99, 0.0],\n",
       "    [0.99, 0.0],\n",
       "    [0.99, 0.0],\n",
       "    [0.99, 0.0]]}},\n",
       " 'empty_patch': {'hist': {'len': 2,\n",
       "   'max': 2411,\n",
       "   'mean': 1561.0,\n",
       "   'min': 711,\n",
       "   'quantiles': [[0.0, 0.0],\n",
       "    [0.0, 0.0],\n",
       "    [0.0, 0.0],\n",
       "    [0.0, 0.0],\n",
       "    [0.5, 0.5],\n",
       "    [0.5, 0.0],\n",
       "    [0.5, 0.0],\n",
       "    [0.5, 0.0],\n",
       "    [0.5, 0.0],\n",
       "    [0.5, 0.0],\n",
       "    [0.5, 0.0],\n",
       "    [0.5, 0.0],\n",
       "    [0.5, 0.0],\n",
       "    [0.5, 0.0],\n",
       "    [0.5, 0.0],\n",
       "    [0.5, 0.0]]}}}"
      ]
     },
     "execution_count": 3,
     "metadata": {},
     "output_type": "execute_result"
    }
   ],
   "source": [
    "data"
   ]
  }
 ],
 "metadata": {
  "kernelspec": {
   "display_name": "Python 3",
   "language": "python",
   "name": "python3"
  },
  "language_info": {
   "codemirror_mode": {
    "name": "ipython",
    "version": 3
   },
   "file_extension": ".py",
   "mimetype": "text/x-python",
   "name": "python",
   "nbconvert_exporter": "python",
   "pygments_lexer": "ipython3",
   "version": "3.8.1"
  }
 },
 "nbformat": 4,
 "nbformat_minor": 2
}
