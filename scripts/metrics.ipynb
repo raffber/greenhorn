{
 "cells": [
  {
   "cell_type": "code",
   "execution_count": 2,
   "metadata": {},
   "outputs": [
    {
     "data": {
      "text/plain": [
       "'/home/raff/coding/switchnode-ui/greenhorn/scripts'"
      ]
     },
     "execution_count": 2,
     "metadata": {},
     "output_type": "execute_result"
    }
   ],
   "source": [
    "%pwd"
   ]
  },
  {
   "cell_type": "code",
   "execution_count": 29,
   "metadata": {},
   "outputs": [],
   "source": [
    "import json\n",
    "import matplotlib.pyplot as plt\n",
    "\n",
    "with open('../../bench.json') as f:\n",
    "    data = json.load(f)"
   ]
  },
  {
   "cell_type": "code",
   "execution_count": 37,
   "metadata": {},
   "outputs": [],
   "source": [
    "class Histogram(object):\n",
    "    \n",
    "    @classmethod\n",
    "    def from_json(cls, d):\n",
    "        ret = cls()\n",
    "        ret.max = d['max']\n",
    "        ret.min = d['min']\n",
    "        ret.mean = d['mean']\n",
    "        ret.len = d['len']\n",
    "        ret.quantiles = d['quantiles']\n",
    "        return ret\n",
    "    \n",
    "    def plot(self, subplot):\n",
    "        width = self.max / len(self.quantiles)\n",
    "        for (x,q,y) in self.quantiles:\n",
    "            x = x - width / 2\n",
    "            subplot.bar(x,y,width=width)\n",
    "\n",
    "class ComponentMetric(object):\n",
    "    \n",
    "    @classmethod\n",
    "    def from_json(cls, d):\n",
    "        ret = cls()\n",
    "        ret.time = Histogram.from_json(d['time']['hist'])\n",
    "        ret.throughput = Histogram.from_json(d['throughput']['hist'])\n",
    "        return ret\n",
    "\n",
    "class Benchmark(object):\n",
    "    \n",
    "    @classmethod\n",
    "    def from_json(cls, d):\n",
    "        ret = cls()\n",
    "        ret.components = None\n",
    "        ret.root = ComponentMetric.from_json(d['root'])\n",
    "        ret.diff = Histogram.from_json(d['diff']['hist'])\n",
    "        ret.empty_patch = Histogram.from_json(d['empty_patch']['hist'])\n",
    "        return ret"
   ]
  },
  {
   "cell_type": "code",
   "execution_count": 38,
   "metadata": {},
   "outputs": [
    {
     "data": {
      "image/png": "[encoded data removed]",
      "text/plain": [
       "<Figure size 432x288 with 1 Axes>"
      ]
     },
     "metadata": {
      "needs_background": "light"
     },
     "output_type": "display_data"
    }
   ],
   "source": [
    "bench = Benchmark.from_json(data)\n",
    "fig = plt.figure()\n",
    "bench.root.time.plot(fig.add_subplot(1,1, 1))"
   ]
  },
  {
   "cell_type": "code",
   "execution_count": 39,
   "metadata": {},
   "outputs": [
    {
     "data": {
      "image/png": "[encoded data removed]",
      "text/plain": [
       "<Figure size 432x288 with 1 Axes>"
      ]
     },
     "metadata": {
      "needs_background": "light"
     },
     "output_type": "display_data"
    }
   ],
   "source": [
    "bench = Benchmark.from_json(data)\n",
    "fig = plt.figure()\n",
    "bench.root.throughput.plot(fig.add_subplot(1,1, 1))"
   ]
  },
  {
   "cell_type": "code",
   "execution_count": 42,
   "metadata": {},
   "outputs": [
    {
     "data": {
      "image/png": "[encoded data removed]",
      "text/plain": [
       "<Figure size 432x288 with 1 Axes>"
      ]
     },
     "metadata": {
      "needs_background": "light"
     },
     "output_type": "display_data"
    }
   ],
   "source": [
    "bench = Benchmark.from_json(data)\n",
    "fig = plt.figure()\n",
    "bench.diff.plot(fig.add_subplot(1,1, 1))"
   ]
  },
  {
   "cell_type": "code",
   "execution_count": 43,
   "metadata": {},
   "outputs": [
    {
     "data": {
      "image/png": "[encoded data removed]",
      "text/plain": [
       "<Figure size 432x288 with 1 Axes>"
      ]
     },
     "metadata": {
      "needs_background": "light"
     },
     "output_type": "display_data"
    }
   ],
   "source": [
    "bench = Benchmark.from_json(data)\n",
    "fig = plt.figure()\n",
    "bench.empty_patch.plot(fig.add_subplot(1,1, 1))"
   ]
  },
  {
   "cell_type": "code",
   "execution_count": 37,
   "metadata": {},
   "outputs": [],
   "source": [
    "fig.add_subplot?"
   ]
  }
 ],
 "metadata": {
  "kernelspec": {
   "display_name": "Python 3",
   "language": "python",
   "name": "python3"
  },
  "language_info": {
   "codemirror_mode": {
    "name": "ipython",
    "version": 3
   },
   "file_extension": ".py",
   "mimetype": "text/x-python",
   "name": "python",
   "nbconvert_exporter": "python",
   "pygments_lexer": "ipython3",
   "version": "3.8.1"
  }
 },
 "nbformat": 4,
 "nbformat_minor": 2
}
